{
  "nbformat": 4,
  "nbformat_minor": 0,
  "metadata": {
    "colab": {
      "name": "02_keras_사용법_Sequential 모델.ipynb",
      "provenance": [],
      "authorship_tag": "ABX9TyMVNg8pkD2JjSeGXw4thfSX",
      "include_colab_link": true
    },
    "kernelspec": {
      "name": "python3",
      "display_name": "Python 3"
    },
    "accelerator": "GPU"
  },
  "cells": [
    {
      "cell_type": "markdown",
      "metadata": {
        "id": "view-in-github",
        "colab_type": "text"
      },
      "source": [
        "<a href=\"https://colab.research.google.com/github/tohooni/TensorFlow/blob/master/02_keras_%EC%82%AC%EC%9A%A9%EB%B2%95_Sequential_%EB%AA%A8%EB%8D%B8.ipynb\" target=\"_parent\"><img src=\"https://colab.research.google.com/assets/colab-badge.svg\" alt=\"Open In Colab\"/></a>"
      ]
    },
    {
      "cell_type": "code",
      "metadata": {
        "id": "37qvsMaEz1vQ",
        "colab_type": "code",
        "colab": {}
      },
      "source": [
        "from __future__ import absolute_import, division, print_function, unicode_literals\n",
        "\n",
        "##!pip install -q tensorflow-gpu==2.0.0-rc1\n",
        "import tensorflow as tf\n",
        "from tensorflow import keras"
      ],
      "execution_count": 0,
      "outputs": []
    },
    {
      "cell_type": "code",
      "metadata": {
        "id": "WKahM4By0uvX",
        "colab_type": "code",
        "colab": {
          "base_uri": "https://localhost:8080/",
          "height": 217
        },
        "outputId": "2f02d2d2-50ae-4f88-fb39-42e94fdacac4"
      },
      "source": [
        "!pip show tensorflow"
      ],
      "execution_count": 8,
      "outputs": [
        {
          "output_type": "stream",
          "text": [
            "Name: tensorflow\n",
            "Version: 1.15.0\n",
            "Summary: TensorFlow is an open source machine learning framework for everyone.\n",
            "Home-page: https://www.tensorflow.org/\n",
            "Author: Google Inc.\n",
            "Author-email: packages@tensorflow.org\n",
            "License: Apache 2.0\n",
            "Location: /tensorflow-1.15.0/python3.6\n",
            "Requires: keras-applications, gast, wrapt, astor, absl-py, grpcio, six, tensorboard, protobuf, keras-preprocessing, opt-einsum, tensorflow-estimator, wheel, numpy, google-pasta, termcolor\n",
            "Required-by: tensorflow-federated, stable-baselines, magenta, fancyimpute\n"
          ],
          "name": "stdout"
        }
      ]
    }
  ]
}